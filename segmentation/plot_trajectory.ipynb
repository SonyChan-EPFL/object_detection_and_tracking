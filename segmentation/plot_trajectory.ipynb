{
 "cells": [
  {
   "cell_type": "markdown",
   "metadata": {},
   "source": [
    "## This jupyter notebook plots a specific trajectory (specified by id) of an vehicle with corresponding positions of the surrounding vehicles on semantic segmentation"
   ]
  },
  {
   "cell_type": "code",
   "execution_count": 1,
   "metadata": {},
   "outputs": [],
   "source": [
    "import os\n",
    "import json\n",
    "import numpy as np\n",
    "import cv2\n",
    "import pandas as pd\n",
    "from matplotlib import pyplot as plt\n",
    "import math"
   ]
  },
  {
   "cell_type": "code",
   "execution_count": 2,
   "metadata": {},
   "outputs": [
    {
     "name": "stdout",
     "output_type": "stream",
     "text": [
      "Save image to trajectory_output/example_0.jpg\n",
      "Save image to trajectory_output/example_1.jpg\n",
      "Save image to trajectory_output/example_2.jpg\n",
      "Save image to trajectory_output/example_3.jpg\n",
      "Save image to trajectory_output/example_4.jpg\n",
      "Save image to trajectory_output/example_5.jpg\n",
      "Save image to trajectory_output/example_6.jpg\n",
      "Save image to trajectory_output/example_7.jpg\n",
      "Save image to trajectory_output/example_8.jpg\n",
      "Save image to trajectory_output/example_9.jpg\n",
      "Save image to trajectory_output/example_10.jpg\n",
      "Save image to trajectory_output/example_11.jpg\n",
      "Save image to trajectory_output/example_12.jpg\n",
      "Save image to trajectory_output/example_13.jpg\n",
      "Save image to trajectory_output/example_14.jpg\n",
      "Save image to trajectory_output/example_15.jpg\n",
      "Save image to trajectory_output/example_16.jpg\n",
      "Save image to trajectory_output/example_17.jpg\n",
      "Save image to trajectory_output/example_18.jpg\n",
      "Save image to trajectory_output/example_19.jpg\n",
      "Save image to trajectory_output/example_20.jpg\n",
      "Save image to trajectory_output/example_21.jpg\n",
      "Save image to trajectory_output/example_22.jpg\n",
      "Save image to trajectory_output/example_23.jpg\n",
      "Save image to trajectory_output/example_24.jpg\n",
      "Save image to trajectory_output/example_25.jpg\n",
      "Save image to trajectory_output/example_26.jpg\n"
     ]
    }
   ],
   "source": [
    "# Input Parameters\n",
    "anno_path = \"./Example_tracked_all.txt\" # Annotation file path\n",
    "tid = 10  # Vehicle ID\n",
    "frame_rate = 25 # fps \n",
    "sample_rate = 0.4 # sample rate in seconds\n",
    "\n",
    "\n",
    "# Define color and circle size of classes \n",
    "cls_size_color = {\n",
    "    0: (20,(0, 255, 255)), # yellow car\n",
    "    1: (25,(255,255, 0)), # Cyan truck\n",
    "    2: (30,(0, 255, 0)), # red bus\n",
    "    3: (20,(0,255,165)), # orange van rgb brg\n",
    "    4: (10,(128,128,128)), # grey cyclist\n",
    "    5: (10,(255, 255, 255)) # white pedestrain\n",
    "}\n",
    "\n",
    "\n",
    "# The circle size, color, line thickness of target\n",
    "t_size = 20\n",
    "t_thickness = 10\n",
    "t_color = (0, 0, 0)\n",
    "\n",
    "\n",
    "# Load and sample the annotation\n",
    "df = pd.read_csv(anno_path, header=None, sep=\" \", dtype=int)\n",
    "df.columns = [\"frame\",'cls_no', \"id\", 'xc', 'yc', 'w', 'h', 'infer']\n",
    "frames = list(pd.unique(df.loc[df['id'] == tid, 'frame']))\n",
    "frames.sort()\n",
    "sample_interval = int(math.floor(sample_rate * 25))\n",
    "sample_frames = [frames[i] for i in range(0, len(frames),sample_interval)]\n",
    "\n",
    "# extract x ,y coordinates\n",
    "target = []\n",
    "other = []\n",
    "\n",
    "for f_no in sample_frames:\n",
    "    df_f = df[df['frame'] == f_no]\n",
    "    other_objects = []\n",
    "    for index, row in df_f.iterrows():\n",
    "        if row['id'] == tid:\n",
    "            target.append((row['xc'], row['yc']))\n",
    "        else:\n",
    "            other_objects.append((row['cls_no'], row['xc'], row['yc']))\n",
    "    other.append(other_objects)\n",
    "\n",
    "target_trjs = [target[: i + 1] for i in range(len(target))]\n",
    "\n",
    "\n",
    "# Load segmentation image\n",
    "base_img = cv2.imread(\"./Segmentation_output/Morges_Avenue_de_la_Gotta_2_color.jpg\")\n",
    "\n",
    "# Plot images\n",
    "for idx, e in enumerate(zip(target_trjs,other)):\n",
    "    trjs, objs = e\n",
    "    new_img = base_img.copy()\n",
    "    if idx == 0:\n",
    "        cv2.circle(new_img, trjs[0], t_size, t_color, -1)\n",
    "    else:\n",
    "        for i in range(len(trjs )- 1):\n",
    "            cv2.line(new_img, trjs[i], trjs[i + 1], t_color, thickness=t_thickness)\n",
    "            cv2.circle(new_img, trjs[i], t_size, t_color, -1)\n",
    "            cv2.circle(new_img, trjs[i+1], t_size, t_color, -1)\n",
    "    for obj in objs:\n",
    "        size, color = cls_size_color[obj[0]]\n",
    "        cv2.circle(new_img, (obj[1], obj[2]), size, color, -1)\n",
    "    \n",
    "    print(\"Save image to {}\".format(\"trajectory_output/example_{}.jpg\".format(idx)))\n",
    "    cv2.imwrite(\"trajectory_output/example_{}.jpg\".format(idx), new_img)"
   ]
  },
  {
   "cell_type": "markdown",
   "metadata": {},
   "source": [
    "### Show the first image of the output"
   ]
  },
  {
   "cell_type": "code",
   "execution_count": 3,
   "metadata": {},
   "outputs": [
    {
     "ename": "TypeError",
     "evalue": "Image data cannot be converted to float",
     "output_type": "error",
     "traceback": [
      "\u001b[0;31m---------------------------------------------------------------------------\u001b[0m",
      "\u001b[0;31mTypeError\u001b[0m                                 Traceback (most recent call last)",
      "\u001b[0;32m<ipython-input-3-4798c6e6f3ee>\u001b[0m in \u001b[0;36m<module>\u001b[0;34m\u001b[0m\n\u001b[1;32m      1\u001b[0m \u001b[0mimg\u001b[0m \u001b[0;34m=\u001b[0m \u001b[0mcv2\u001b[0m\u001b[0;34m.\u001b[0m\u001b[0mimread\u001b[0m\u001b[0;34m(\u001b[0m\u001b[0;34m\"trajectory_output/test_0.jpg\"\u001b[0m\u001b[0;34m)\u001b[0m\u001b[0;34m\u001b[0m\u001b[0;34m\u001b[0m\u001b[0m\n\u001b[0;32m----> 2\u001b[0;31m \u001b[0mplt\u001b[0m\u001b[0;34m.\u001b[0m\u001b[0mimshow\u001b[0m\u001b[0;34m(\u001b[0m\u001b[0mimg\u001b[0m\u001b[0;34m)\u001b[0m\u001b[0;34m\u001b[0m\u001b[0;34m\u001b[0m\u001b[0m\n\u001b[0m",
      "\u001b[0;32m/usr/local/anaconda3/envs/torch_0.4/lib/python3.6/site-packages/matplotlib/pyplot.py\u001b[0m in \u001b[0;36mimshow\u001b[0;34m(X, cmap, norm, aspect, interpolation, alpha, vmin, vmax, origin, extent, shape, filternorm, filterrad, imlim, resample, url, data, **kwargs)\u001b[0m\n\u001b[1;32m   2699\u001b[0m         \u001b[0mfilternorm\u001b[0m\u001b[0;34m=\u001b[0m\u001b[0mfilternorm\u001b[0m\u001b[0;34m,\u001b[0m \u001b[0mfilterrad\u001b[0m\u001b[0;34m=\u001b[0m\u001b[0mfilterrad\u001b[0m\u001b[0;34m,\u001b[0m \u001b[0mimlim\u001b[0m\u001b[0;34m=\u001b[0m\u001b[0mimlim\u001b[0m\u001b[0;34m,\u001b[0m\u001b[0;34m\u001b[0m\u001b[0;34m\u001b[0m\u001b[0m\n\u001b[1;32m   2700\u001b[0m         resample=resample, url=url, **({\"data\": data} if data is not\n\u001b[0;32m-> 2701\u001b[0;31m         None else {}), **kwargs)\n\u001b[0m\u001b[1;32m   2702\u001b[0m     \u001b[0msci\u001b[0m\u001b[0;34m(\u001b[0m\u001b[0m__ret\u001b[0m\u001b[0;34m)\u001b[0m\u001b[0;34m\u001b[0m\u001b[0;34m\u001b[0m\u001b[0m\n\u001b[1;32m   2703\u001b[0m     \u001b[0;32mreturn\u001b[0m \u001b[0m__ret\u001b[0m\u001b[0;34m\u001b[0m\u001b[0;34m\u001b[0m\u001b[0m\n",
      "\u001b[0;32m/usr/local/anaconda3/envs/torch_0.4/lib/python3.6/site-packages/matplotlib/__init__.py\u001b[0m in \u001b[0;36minner\u001b[0;34m(ax, data, *args, **kwargs)\u001b[0m\n\u001b[1;32m   1803\u001b[0m                         \u001b[0;34m\"the Matplotlib list!)\"\u001b[0m \u001b[0;34m%\u001b[0m \u001b[0;34m(\u001b[0m\u001b[0mlabel_namer\u001b[0m\u001b[0;34m,\u001b[0m \u001b[0mfunc\u001b[0m\u001b[0;34m.\u001b[0m\u001b[0m__name__\u001b[0m\u001b[0;34m)\u001b[0m\u001b[0;34m,\u001b[0m\u001b[0;34m\u001b[0m\u001b[0;34m\u001b[0m\u001b[0m\n\u001b[1;32m   1804\u001b[0m                         RuntimeWarning, stacklevel=2)\n\u001b[0;32m-> 1805\u001b[0;31m             \u001b[0;32mreturn\u001b[0m \u001b[0mfunc\u001b[0m\u001b[0;34m(\u001b[0m\u001b[0max\u001b[0m\u001b[0;34m,\u001b[0m \u001b[0;34m*\u001b[0m\u001b[0margs\u001b[0m\u001b[0;34m,\u001b[0m \u001b[0;34m**\u001b[0m\u001b[0mkwargs\u001b[0m\u001b[0;34m)\u001b[0m\u001b[0;34m\u001b[0m\u001b[0;34m\u001b[0m\u001b[0m\n\u001b[0m\u001b[1;32m   1806\u001b[0m \u001b[0;34m\u001b[0m\u001b[0m\n\u001b[1;32m   1807\u001b[0m         inner.__doc__ = _add_data_doc(inner.__doc__,\n",
      "\u001b[0;32m/usr/local/anaconda3/envs/torch_0.4/lib/python3.6/site-packages/matplotlib/axes/_axes.py\u001b[0m in \u001b[0;36mimshow\u001b[0;34m(self, X, cmap, norm, aspect, interpolation, alpha, vmin, vmax, origin, extent, shape, filternorm, filterrad, imlim, resample, url, **kwargs)\u001b[0m\n\u001b[1;32m   5481\u001b[0m                               resample=resample, **kwargs)\n\u001b[1;32m   5482\u001b[0m \u001b[0;34m\u001b[0m\u001b[0m\n\u001b[0;32m-> 5483\u001b[0;31m         \u001b[0mim\u001b[0m\u001b[0;34m.\u001b[0m\u001b[0mset_data\u001b[0m\u001b[0;34m(\u001b[0m\u001b[0mX\u001b[0m\u001b[0;34m)\u001b[0m\u001b[0;34m\u001b[0m\u001b[0;34m\u001b[0m\u001b[0m\n\u001b[0m\u001b[1;32m   5484\u001b[0m         \u001b[0mim\u001b[0m\u001b[0;34m.\u001b[0m\u001b[0mset_alpha\u001b[0m\u001b[0;34m(\u001b[0m\u001b[0malpha\u001b[0m\u001b[0;34m)\u001b[0m\u001b[0;34m\u001b[0m\u001b[0;34m\u001b[0m\u001b[0m\n\u001b[1;32m   5485\u001b[0m         \u001b[0;32mif\u001b[0m \u001b[0mim\u001b[0m\u001b[0;34m.\u001b[0m\u001b[0mget_clip_path\u001b[0m\u001b[0;34m(\u001b[0m\u001b[0;34m)\u001b[0m \u001b[0;32mis\u001b[0m \u001b[0;32mNone\u001b[0m\u001b[0;34m:\u001b[0m\u001b[0;34m\u001b[0m\u001b[0;34m\u001b[0m\u001b[0m\n",
      "\u001b[0;32m/usr/local/anaconda3/envs/torch_0.4/lib/python3.6/site-packages/matplotlib/image.py\u001b[0m in \u001b[0;36mset_data\u001b[0;34m(self, A)\u001b[0m\n\u001b[1;32m    640\u001b[0m         if (self._A.dtype != np.uint8 and\n\u001b[1;32m    641\u001b[0m                 not np.can_cast(self._A.dtype, float, \"same_kind\")):\n\u001b[0;32m--> 642\u001b[0;31m             \u001b[0;32mraise\u001b[0m \u001b[0mTypeError\u001b[0m\u001b[0;34m(\u001b[0m\u001b[0;34m\"Image data cannot be converted to float\"\u001b[0m\u001b[0;34m)\u001b[0m\u001b[0;34m\u001b[0m\u001b[0;34m\u001b[0m\u001b[0m\n\u001b[0m\u001b[1;32m    643\u001b[0m \u001b[0;34m\u001b[0m\u001b[0m\n\u001b[1;32m    644\u001b[0m         if not (self._A.ndim == 2\n",
      "\u001b[0;31mTypeError\u001b[0m: Image data cannot be converted to float"
     ]
    },
    {
     "data": {
      "image/png": "[encoded data removed]",
      "text/plain": [
       "<Figure size 432x288 with 1 Axes>"
      ]
     },
     "metadata": {
      "needs_background": "light"
     },
     "output_type": "display_data"
    }
   ],
   "source": [
    "img = cv2.imread(\"trajectory_output/test_0.jpg\")\n",
    "plt.imshow(img)"
   ]
  }
 ],
 "metadata": {
  "kernelspec": {
   "display_name": "Python 3",
   "language": "python",
   "name": "python3"
  },
  "language_info": {
   "codemirror_mode": {
    "name": "ipython",
    "version": 3
   },
   "file_extension": ".py",
   "mimetype": "text/x-python",
   "name": "python",
   "nbconvert_exporter": "python",
   "pygments_lexer": "ipython3",
   "version": "3.6.7"
  }
 },
 "nbformat": 4,
 "nbformat_minor": 2
}
