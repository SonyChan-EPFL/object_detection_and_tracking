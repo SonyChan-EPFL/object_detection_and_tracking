{
 "cells": [
  {
   "cell_type": "markdown",
   "metadata": {},
   "source": [
    "##  This jupyter notebook converts  the JSON file from [Labelbox](https://www.labelbox.com/) to color images and 2-D numpy array of segmentation of each scene"
   ]
  },
  {
   "cell_type": "code",
   "execution_count": 1,
   "metadata": {},
   "outputs": [],
   "source": [
    "import os\n",
    "import json\n",
    "import PIL.ImageDraw as ImageDraw\n",
    "import PIL.Image as Image\n",
    "import numpy as np\n",
    "import cv2\n",
    "from matplotlib import pyplot as plt"
   ]
  },
  {
   "cell_type": "markdown",
   "metadata": {},
   "source": [
    "### Define class numbers and colors"
   ]
  },
  {
   "cell_type": "code",
   "execution_count": 2,
   "metadata": {},
   "outputs": [],
   "source": [
    "segment_class_no = {\n",
    "    \"road\":0,\n",
    "    \"crosswalk\":1,\n",
    "    \"sidewalk\":2, \n",
    "    \"other\": 3\n",
    "}\n",
    "\n",
    "segment_class_color = {\n",
    "    0: [255, 0, 0],\n",
    "    1: [0, 204, 0],\n",
    "    2: [255, 255, 0], \n",
    "    3: [255,0,255]\n",
    "}\n",
    "    "
   ]
  },
  {
   "cell_type": "code",
   "execution_count": 3,
   "metadata": {},
   "outputs": [],
   "source": [
    "# Covert points of polygon to np arrary foramt\n",
    "def dict_to_list(points):\n",
    "    new_points = []\n",
    "    for point in points:\n",
    "        pt = [point['x'], point['y']]\n",
    "        new_points.append(pt)\n",
    "    return np.array(new_points, dtype = np.int32)\n",
    "\n",
    "\n",
    "# K-NN algorithm that fills up the empty pixels at the bundary among the different classes of segmentation\n",
    "def knn_fill_empty(img, radius):\n",
    "    def points_in_circle_np(radius, x0=0, y0=0, ):\n",
    "        x_ = np.arange(x0 - radius - 1, x0 + radius + 1, dtype=int)\n",
    "        y_ = np.arange(y0 - radius - 1, y0 + radius + 1, dtype=int)\n",
    "        x, y = np.where((x_[:,np.newaxis] - x0)**2 + (y_ - y0)**2 <= radius**2)\n",
    "        for x, y in zip(x_[x], y_[y]):\n",
    "            yield x, y\n",
    "        \n",
    "    h, w = img.shape\n",
    "    for i in range(0, h):\n",
    "        for j in range(0, w):\n",
    "            if img[i][j] == -1:\n",
    "                votes = {0:0, 1:0, 2:0, 3:0}\n",
    "                all_pixels = points_in_circle_np(10, j, i)\n",
    "                for x, y in all_pixels:\n",
    "                    if x < w and x >= 0 and y < h and y >= 0:\n",
    "                        if img[y][x] != -1:\n",
    "                            votes[img[y][x]] += 1\n",
    "                sorted_by_value = sorted(votes.items(), key=lambda kv: kv[1])\n",
    "                img[i][j] = sorted_by_value[-1][0]\n",
    "                \n",
    "# Conver class number to color image                \n",
    "def convert_to_color_img(img):\n",
    "    h, w = img.shape\n",
    "    new_img = np.zeros((h,w, 3))\n",
    "    for i in range(0, h):\n",
    "        for j in range(0, w):\n",
    "            color = np.array(segment_class_color[int(img[i][j])])\n",
    "            new_img[i][j] = color\n",
    "    return new_img"
   ]
  },
  {
   "cell_type": "markdown",
   "metadata": {},
   "source": [
    "### Main "
   ]
  },
  {
   "cell_type": "code",
   "execution_count": 4,
   "metadata": {},
   "outputs": [
    {
     "name": "stdout",
     "output_type": "stream",
     "text": [
      "Processing Morges_Avenue_de_la_Gotta_4.....\n",
      "Processing Morges_Avenue_de_la_Gotta_3.....\n",
      "Processing Morges_Avenue_de_la_Gotta_2.....\n",
      "Processing Morges_Avenue_de_la_Gotta_1.....\n",
      "Processing Echabdens_Route_de_la_Gare_2.....\n",
      "Processing Echabdens_Route_de_la_Gare_4.....\n",
      "Processing Echabdens_Route_de_la_Gare_3.....\n",
      "Processing Echabdens_Route_de_la_Gare_1.....\n",
      "Processing EPFL_Route_Cantonale_31_2.....\n",
      "Processing EPFL_Route_Cantonale_31_1.....\n",
      "Processing Echabdens_Route_de_la_Gare_5.....\n",
      "Processing Ecublens_Route_de_la_Pierre_2.....\n",
      "Processing Echabdens_Route_de_la_Gare_2.....\n",
      "Processing Morges_Avenue_de_la_Gotta_5.....\n",
      "Processing Ecublens_Route_de_la_Pierre_1.....\n"
     ]
    }
   ],
   "source": [
    "\n",
    "# Input parameters \n",
    "output_folder = \"segmentation_output\"  # output folder path\n",
    "path_json = \"./segmentation_meta_labelbox.json\" # JSON file path\n",
    "img_w = 3820 # image width\n",
    "img_h = 2160 # image height\n",
    "\n",
    "\n",
    "if not os.path.isdir(output_folder):\n",
    "    os.mkdir(output_folder)\n",
    "    \n",
    "with open(path_json) as json_file:\n",
    "    meta = json.load(json_file)\n",
    "\n",
    "for scene in meta:\n",
    "    if \"old\" not in scene[\"External ID\"]:\n",
    "        name = scene[\"External ID\"][:-11]\n",
    "        print(\"Processing {}.....\".format(name))\n",
    "        label = scene[\"Label\"]\n",
    "        polygons = {k: [ dict_to_list(geo['geometry']) for geo in v] for k,v in label.items()}\n",
    "        img = np.empty((img_h, img_w))\n",
    "        img.fill(-1)\n",
    "        for k, v in polygons.items():\n",
    "            cv2.fillPoly(img, v, segment_class_no[k])\n",
    "        # KNN fill the gap between each segment\n",
    "        knn_fill_empty(img, 25)\n",
    "        new_img = convert_to_color_img(img)\n",
    "        img.astype(\"uint8\")\n",
    "        new_img.astype(\"uint8\")\n",
    "        \n",
    "        # Save segmentation in 2-D np array\n",
    "        np.save(output_folder + \"/\" + name + \"_cls\"+\".npy\", img)\n",
    "        # Save to image\n",
    "        cv2.imwrite(output_folder + \"/\" + name + \"_color\" + \".jpg\", new_img)\n",
    "    \n",
    "    "
   ]
  },
  {
   "cell_type": "markdown",
   "metadata": {},
   "source": [
    "### Example of the image of  \"EPFL_Route_Cantonale_31_1\"\n"
   ]
  },
  {
   "cell_type": "code",
   "execution_count": 5,
   "metadata": {},
   "outputs": [
    {
     "name": "stdout",
     "output_type": "stream",
     "text": [
      "Ecublens_Route_de_la_Pierre_1\n"
     ]
    },
    {
     "data": {
      "text/plain": [
       "<matplotlib.image.AxesImage at 0x124335860>"
      ]
     },
     "execution_count": 5,
     "metadata": {},
     "output_type": "execute_result"
    },
    {
     "data": {
      "image/png": "[encoded data removed]",
      "text/plain": [
       "<Figure size 432x288 with 1 Axes>"
      ]
     },
     "metadata": {
      "needs_background": "light"
     },
     "output_type": "display_data"
    }
   ],
   "source": [
    "with open(\"./segmentation_meta_labelbox.json\") as json_file:\n",
    "    meta = json.load(json_file)\n",
    "scene = meta[-1]\n",
    "print(scene[\"External ID\"][:-11])\n",
    "label = scene[\"Label\"]\n",
    "polygons = {k: [ dict_to_list(geo['geometry']) for geo in v] for k,v in label.items()}\n",
    "\n",
    "img = np.empty((2160, 3820))\n",
    "img.fill(-1)\n",
    "for k, v in polygons.items():\n",
    "    cv2.fillPoly(img, v, segment_class_no[k])\n",
    "plt.imshow(img)"
   ]
  },
  {
   "cell_type": "markdown",
   "metadata": {},
   "source": [
    "### Show image of the segmentation after being fixed by  K-NN algortithm"
   ]
  },
  {
   "cell_type": "code",
   "execution_count": 6,
   "metadata": {},
   "outputs": [
    {
     "data": {
      "text/plain": [
       "<matplotlib.image.AxesImage at 0x12426fe80>"
      ]
     },
     "execution_count": 6,
     "metadata": {},
     "output_type": "execute_result"
    },
    {
     "data": {
      "image/png": "[encoded data removed]",
      "text/plain": [
       "<Figure size 432x288 with 1 Axes>"
      ]
     },
     "metadata": {
      "needs_background": "light"
     },
     "output_type": "display_data"
    }
   ],
   "source": [
    "knn_fill_empty(img, 25)\n",
    "plt.imshow(img)"
   ]
  },
  {
   "cell_type": "markdown",
   "metadata": {},
   "source": [
    "### Show example of  color image"
   ]
  },
  {
   "cell_type": "code",
   "execution_count": 7,
   "metadata": {},
   "outputs": [
    {
     "name": "stderr",
     "output_type": "stream",
     "text": [
      "Clipping input data to the valid range for imshow with RGB data ([0..1] for floats or [0..255] for integers).\n"
     ]
    },
    {
     "data": {
      "text/plain": [
       "<matplotlib.image.AxesImage at 0x1242cae80>"
      ]
     },
     "execution_count": 7,
     "metadata": {},
     "output_type": "execute_result"
    },
    {
     "data": {
      "image/png": "[encoded data removed]",
      "text/plain": [
       "<Figure size 432x288 with 1 Axes>"
      ]
     },
     "metadata": {
      "needs_background": "light"
     },
     "output_type": "display_data"
    }
   ],
   "source": [
    "color_img = convert_to_color_img(img)\n",
    "plt.imshow(color_img)"
   ]
  }
 ],
 "metadata": {
  "kernelspec": {
   "display_name": "Python 3",
   "language": "python",
   "name": "python3"
  },
  "language_info": {
   "codemirror_mode": {
    "name": "ipython",
    "version": 3
   },
   "file_extension": ".py",
   "mimetype": "text/x-python",
   "name": "python",
   "nbconvert_exporter": "python",
   "pygments_lexer": "ipython3",
   "version": "3.7.0"
  }
 },
 "nbformat": 4,
 "nbformat_minor": 2
}
